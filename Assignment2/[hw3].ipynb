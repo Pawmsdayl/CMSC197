{
 "cells": [
  {
   "cell_type": "code",
   "execution_count": 628,
   "metadata": {},
   "outputs": [],
   "source": [
    "# import libraries\n",
    "\n",
    "import numpy as np\n",
    "import pandas as pd\n",
    "import matplotlib.pyplot as plt\n",
    "from sklearn.model_selection import train_test_split \n",
    "from sklearn.metrics import r2_score\n"
   ]
  },
  {
   "cell_type": "code",
   "execution_count": 629,
   "metadata": {},
   "outputs": [],
   "source": [
    "# ignore FutrueWarning\n",
    "\n",
    "import warnings\n",
    "warnings.simplefilter(action='ignore', category=FutureWarning)"
   ]
  },
  {
   "cell_type": "code",
   "execution_count": 630,
   "metadata": {},
   "outputs": [],
   "source": [
    "# constants\n",
    "init_w = np.array([0.0, 0.0, 0.0, 0.0])\n",
    "\n",
    "np.random.seed(123)"
   ]
  },
  {
   "cell_type": "code",
   "execution_count": 631,
   "metadata": {},
   "outputs": [],
   "source": [
    "# gradient descent functions\n",
    "def initialize_weights():\n",
    "    return init_w\n",
    "\n",
    "def predict(x, weights):\n",
    "    return np.dot(x, weights)   \n",
    "\n",
    "def compute_cost(y, y_hat):\n",
    "    return np.mean((y_hat - y)**2) / 2\n",
    "\n",
    "def compute_gradient(x, y, y_hat, learning_rate):\n",
    "    return np.mean(x.T * (y_hat - y), axis=1) * learning_rate\n",
    "\n",
    "def update_weights(weight, gradient):\n",
    "    return weight - gradient \n",
    "\n",
    "def grad_descent(x, y, learning_rate, num_iterations):\n",
    "    weights = initialize_weights()\n",
    "    cost_history = []\n",
    "    \n",
    "    for i in range(num_iterations):\n",
    "        y_hat = predict(x, weights)\n",
    "        cost = compute_cost(y, y_hat)\n",
    "        cost_history.append(cost)\n",
    "        \n",
    "        gradient = compute_gradient(x, y, y_hat, learning_rate)\n",
    "        weights = update_weights(weights, gradient)\n",
    "    return weights, cost_history\n",
    "\n",
    "def plot_costs(cost_history, learning_rate):\n",
    "    plt.figure(figsize=(10, 10))\n",
    "\n",
    "    plt.scatter(\n",
    "        x=range(len(cost_history)),\n",
    "        y=cost_history\n",
    "    )\n",
    "    plt.xlabel('Iterations')\n",
    "    plt.ylabel('Cost')\n",
    "    plt.title('Cost vs Iterations, Learning Rate={}'.format(learning_rate))\n",
    "    plt.yticks(np.arange(0, round(max(cost_history), 2), step=0.05))\n",
    "    plt.show()\n",
    "\n"
   ]
  },
  {
   "cell_type": "code",
   "execution_count": 632,
   "metadata": {},
   "outputs": [
    {
     "data": {
      "text/html": [
       "<div>\n",
       "<style scoped>\n",
       "    .dataframe tbody tr th:only-of-type {\n",
       "        vertical-align: middle;\n",
       "    }\n",
       "\n",
       "    .dataframe tbody tr th {\n",
       "        vertical-align: top;\n",
       "    }\n",
       "\n",
       "    .dataframe thead th {\n",
       "        text-align: right;\n",
       "    }\n",
       "</style>\n",
       "<table border=\"1\" class=\"dataframe\">\n",
       "  <thead>\n",
       "    <tr style=\"text-align: right;\">\n",
       "      <th></th>\n",
       "      <th>tv</th>\n",
       "      <th>radio</th>\n",
       "      <th>newspaper</th>\n",
       "      <th>sales</th>\n",
       "    </tr>\n",
       "  </thead>\n",
       "  <tbody>\n",
       "    <tr>\n",
       "      <th>0</th>\n",
       "      <td>230.1</td>\n",
       "      <td>37.8</td>\n",
       "      <td>69.2</td>\n",
       "      <td>22.1</td>\n",
       "    </tr>\n",
       "    <tr>\n",
       "      <th>1</th>\n",
       "      <td>44.5</td>\n",
       "      <td>39.3</td>\n",
       "      <td>45.1</td>\n",
       "      <td>10.4</td>\n",
       "    </tr>\n",
       "    <tr>\n",
       "      <th>2</th>\n",
       "      <td>17.2</td>\n",
       "      <td>45.9</td>\n",
       "      <td>69.3</td>\n",
       "      <td>9.3</td>\n",
       "    </tr>\n",
       "    <tr>\n",
       "      <th>3</th>\n",
       "      <td>151.5</td>\n",
       "      <td>41.3</td>\n",
       "      <td>58.5</td>\n",
       "      <td>18.5</td>\n",
       "    </tr>\n",
       "    <tr>\n",
       "      <th>4</th>\n",
       "      <td>180.8</td>\n",
       "      <td>10.8</td>\n",
       "      <td>58.4</td>\n",
       "      <td>12.9</td>\n",
       "    </tr>\n",
       "  </tbody>\n",
       "</table>\n",
       "</div>"
      ],
      "text/plain": [
       "      tv  radio  newspaper  sales\n",
       "0  230.1   37.8       69.2   22.1\n",
       "1   44.5   39.3       45.1   10.4\n",
       "2   17.2   45.9       69.3    9.3\n",
       "3  151.5   41.3       58.5   18.5\n",
       "4  180.8   10.8       58.4   12.9"
      ]
     },
     "execution_count": 632,
     "metadata": {},
     "output_type": "execute_result"
    }
   ],
   "source": [
    "# import raw data\n",
    "\n",
    "raw_data = pd.read_csv('data/Advertising.csv').drop('Unnamed: 0', axis=1)\n",
    "raw_data.columns = [col.lower() for col in raw_data.columns]\n",
    "\n",
    "raw_data.head()"
   ]
  },
  {
   "cell_type": "code",
   "execution_count": 633,
   "metadata": {},
   "outputs": [],
   "source": [
    "# standardization functions\n",
    "\n",
    "def scale(unscaled, feature='sales'):\n",
    "    scaled_data = (unscaled - raw_data[feature].mean()) / raw_data[feature].std()\n",
    "    return scaled_data\n",
    "\n",
    "def calculate_orig(scaled, feature='sales'):\n",
    "    calculated_original = scaled * raw_data[feature].std() + raw_data[feature].mean()\n",
    "    return calculated_original"
   ]
  },
  {
   "cell_type": "code",
   "execution_count": 634,
   "metadata": {},
   "outputs": [
    {
     "data": {
      "text/html": [
       "<div>\n",
       "<style scoped>\n",
       "    .dataframe tbody tr th:only-of-type {\n",
       "        vertical-align: middle;\n",
       "    }\n",
       "\n",
       "    .dataframe tbody tr th {\n",
       "        vertical-align: top;\n",
       "    }\n",
       "\n",
       "    .dataframe thead th {\n",
       "        text-align: right;\n",
       "    }\n",
       "</style>\n",
       "<table border=\"1\" class=\"dataframe\">\n",
       "  <thead>\n",
       "    <tr style=\"text-align: right;\">\n",
       "      <th></th>\n",
       "      <th>tv</th>\n",
       "      <th>radio</th>\n",
       "      <th>newspaper</th>\n",
       "      <th>sales</th>\n",
       "    </tr>\n",
       "  </thead>\n",
       "  <tbody>\n",
       "    <tr>\n",
       "      <th>0</th>\n",
       "      <td>0.967425</td>\n",
       "      <td>0.979066</td>\n",
       "      <td>1.774493</td>\n",
       "      <td>1.548168</td>\n",
       "    </tr>\n",
       "    <tr>\n",
       "      <th>1</th>\n",
       "      <td>-1.194379</td>\n",
       "      <td>1.080097</td>\n",
       "      <td>0.667903</td>\n",
       "      <td>-0.694304</td>\n",
       "    </tr>\n",
       "    <tr>\n",
       "      <th>2</th>\n",
       "      <td>-1.512360</td>\n",
       "      <td>1.524637</td>\n",
       "      <td>1.779084</td>\n",
       "      <td>-0.905135</td>\n",
       "    </tr>\n",
       "    <tr>\n",
       "      <th>3</th>\n",
       "      <td>0.051919</td>\n",
       "      <td>1.214806</td>\n",
       "      <td>1.283185</td>\n",
       "      <td>0.858177</td>\n",
       "    </tr>\n",
       "    <tr>\n",
       "      <th>4</th>\n",
       "      <td>0.393196</td>\n",
       "      <td>-0.839507</td>\n",
       "      <td>1.278593</td>\n",
       "      <td>-0.215143</td>\n",
       "    </tr>\n",
       "  </tbody>\n",
       "</table>\n",
       "</div>"
      ],
      "text/plain": [
       "         tv     radio  newspaper     sales\n",
       "0  0.967425  0.979066   1.774493  1.548168\n",
       "1 -1.194379  1.080097   0.667903 -0.694304\n",
       "2 -1.512360  1.524637   1.779084 -0.905135\n",
       "3  0.051919  1.214806   1.283185  0.858177\n",
       "4  0.393196 -0.839507   1.278593 -0.215143"
      ]
     },
     "execution_count": 634,
     "metadata": {},
     "output_type": "execute_result"
    }
   ],
   "source": [
    "# scale data\n",
    "\n",
    "scaled_data = raw_data.copy()\n",
    "\n",
    "for col in raw_data.columns:\n",
    "    scaled_data[col] = raw_data[col].apply(lambda x: scale(x, feature=col))\n",
    "\n",
    "\n",
    "scaled_data.head()"
   ]
  },
  {
   "cell_type": "code",
   "execution_count": 635,
   "metadata": {},
   "outputs": [
    {
     "data": {
      "text/html": [
       "<div>\n",
       "<style scoped>\n",
       "    .dataframe tbody tr th:only-of-type {\n",
       "        vertical-align: middle;\n",
       "    }\n",
       "\n",
       "    .dataframe tbody tr th {\n",
       "        vertical-align: top;\n",
       "    }\n",
       "\n",
       "    .dataframe thead th {\n",
       "        text-align: right;\n",
       "    }\n",
       "</style>\n",
       "<table border=\"1\" class=\"dataframe\">\n",
       "  <thead>\n",
       "    <tr style=\"text-align: right;\">\n",
       "      <th></th>\n",
       "      <th>bias</th>\n",
       "      <th>tv</th>\n",
       "      <th>radio</th>\n",
       "      <th>newspaper</th>\n",
       "      <th>sales</th>\n",
       "    </tr>\n",
       "  </thead>\n",
       "  <tbody>\n",
       "    <tr>\n",
       "      <th>0</th>\n",
       "      <td>1</td>\n",
       "      <td>0.967425</td>\n",
       "      <td>0.979066</td>\n",
       "      <td>1.774493</td>\n",
       "      <td>1.548168</td>\n",
       "    </tr>\n",
       "    <tr>\n",
       "      <th>1</th>\n",
       "      <td>1</td>\n",
       "      <td>-1.194379</td>\n",
       "      <td>1.080097</td>\n",
       "      <td>0.667903</td>\n",
       "      <td>-0.694304</td>\n",
       "    </tr>\n",
       "    <tr>\n",
       "      <th>2</th>\n",
       "      <td>1</td>\n",
       "      <td>-1.512360</td>\n",
       "      <td>1.524637</td>\n",
       "      <td>1.779084</td>\n",
       "      <td>-0.905135</td>\n",
       "    </tr>\n",
       "    <tr>\n",
       "      <th>3</th>\n",
       "      <td>1</td>\n",
       "      <td>0.051919</td>\n",
       "      <td>1.214806</td>\n",
       "      <td>1.283185</td>\n",
       "      <td>0.858177</td>\n",
       "    </tr>\n",
       "    <tr>\n",
       "      <th>4</th>\n",
       "      <td>1</td>\n",
       "      <td>0.393196</td>\n",
       "      <td>-0.839507</td>\n",
       "      <td>1.278593</td>\n",
       "      <td>-0.215143</td>\n",
       "    </tr>\n",
       "  </tbody>\n",
       "</table>\n",
       "</div>"
      ],
      "text/plain": [
       "   bias        tv     radio  newspaper     sales\n",
       "0     1  0.967425  0.979066   1.774493  1.548168\n",
       "1     1 -1.194379  1.080097   0.667903 -0.694304\n",
       "2     1 -1.512360  1.524637   1.779084 -0.905135\n",
       "3     1  0.051919  1.214806   1.283185  0.858177\n",
       "4     1  0.393196 -0.839507   1.278593 -0.215143"
      ]
     },
     "execution_count": 635,
     "metadata": {},
     "output_type": "execute_result"
    }
   ],
   "source": [
    "# insert bias term\n",
    "\n",
    "data = scaled_data.copy()\n",
    "data.insert(0, 'bias', 1)\n",
    "data.head()"
   ]
  },
  {
   "cell_type": "code",
   "execution_count": 636,
   "metadata": {},
   "outputs": [],
   "source": [
    "# divide data into training (.75) and testing (.25) sets\n",
    "\n",
    "random_state = np.random.RandomState(0)\n",
    "\n",
    "x = data.drop('sales', axis=1)  # predictors\n",
    "y = data['sales']               # response\n",
    "\n",
    "x_train, x_test, y_train, y_test = train_test_split(x, y, test_size=0.25, random_state=random_state)"
   ]
  },
  {
   "cell_type": "code",
   "execution_count": 637,
   "metadata": {},
   "outputs": [
    {
     "data": {
      "image/png": "[encoded data removed]",
      "text/plain": [
       "<Figure size 1000x1000 with 1 Axes>"
      ]
     },
     "metadata": {},
     "output_type": "display_data"
    }
   ],
   "source": [
    "# parameters\n",
    "learning_rate = 0.1\n",
    "num_iterations = 500\n",
    "\n",
    "# run gradient descent\n",
    "weights, cost_history = grad_descent(x_train, y_train, learning_rate, num_iterations)\n",
    "plot_costs(cost_history, learning_rate)"
   ]
  },
  {
   "cell_type": "code",
   "execution_count": 638,
   "metadata": {},
   "outputs": [
    {
     "name": "stdout",
     "output_type": "stream",
     "text": [
      "TRAIN SET\n",
      "first 5 pred: [10.62420524 19.5419182  18.37463236 15.26284415 10.02487307]\n",
      "first 5 real: [12.4 19.7 17.6 15.5 10.1]\n",
      "mse: 0.04479705132564237\n",
      " r2: 0.9072183330817297\n",
      "\n",
      "TEST SET\n",
      "first 5 pred: [10.0494569   7.43052335  6.97152143 24.16378667 12.00215643]\n",
      "first 5 real: [11.3  8.4  8.7 25.4 11.7]\n",
      "mse: 0.0736999336653349\n",
      " r2: 0.8576396745320891\n"
     ]
    }
   ],
   "source": [
    "print('TRAIN SET')\n",
    "\n",
    "y_train_pred = predict(x_train, weights)\n",
    "mse_train = compute_cost(y_train, y_train_pred)\n",
    "r2_train = r2_score(y_train, y_train_pred)\n",
    "\n",
    "print(f'first 5 pred: {calculate_orig(y_train_pred[:5])}')\n",
    "print(f'first 5 real: {calculate_orig(y_train[:5].values)}')\n",
    "print(f'mse: {mse_train}')\n",
    "print(f' r2: {r2_train}')\n",
    "\n",
    "print('\\nTEST SET')\n",
    "\n",
    "y_test_pred = predict(x_test, weights)\n",
    "mse_test = compute_cost(y_test, y_test_pred)\n",
    "r2_test = r2_score(y_test, y_test_pred)\n",
    "print(f'first 5 pred: {calculate_orig(y_test_pred[:5])}')\n",
    "print(f'first 5 real: {calculate_orig(y_test[:5].values)}')\n",
    "print(f'mse: {mse_test}')\n",
    "print(f' r2: {r2_test}')"
   ]
  },
  {
   "cell_type": "markdown",
   "metadata": {},
   "source": [
    "### 1. What are the optimal weights found by your implemented gradient descent? Plug it into the linear model:\n",
    "##### <center> h_theta(x) = theta_0 + theta_1*TV + theta_2*Radio + theta_3*Newspaper </center>"
   ]
  },
  {
   "cell_type": "code",
   "execution_count": 639,
   "metadata": {},
   "outputs": [
    {
     "name": "stdout",
     "output_type": "stream",
     "text": [
      "weights: \n",
      "bias         0.005550\n",
      "tv           0.726700\n",
      "radio        0.566285\n",
      "newspaper    0.004853\n",
      "dtype: float64\n",
      "\n",
      "h_theta(x) = 0.005550213160979623 + 0.7266997807173272*TV + 0.5662854364193882*Radio + 0.0048532324650542805*Newspaper\n",
      "\n",
      "SAMPLE\n",
      "bias         1.000000\n",
      "tv           0.393196\n",
      "radio       -0.839507\n",
      "newspaper    1.278593\n",
      "Name: 4, dtype: float64\n",
      "\n",
      "STANDARDIZED\n",
      "pred: -0.17790996617288876\n",
      "real: -0.21514314223086323\n",
      "\n",
      "CALCULATED ORIGINAL\n",
      "pred: 13.094262478885934\n",
      "real: 12.9\n"
     ]
    }
   ],
   "source": [
    "bias = weights[0]\n",
    "tv = weights[1]\n",
    "radio = weights[2]\n",
    "newspaper = weights[3]\n",
    "\n",
    "print(f'weights: \\n{weights}')\n",
    "print(f'\\nh_theta(x) = {bias} + {tv}*TV + {radio}*Radio + {newspaper}*Newspaper')\n",
    "\n",
    "index = 4\n",
    "sample = data.iloc[index]\n",
    "\n",
    "print('\\nSAMPLE')\n",
    "print(sample[:4])\n",
    "\n",
    "print('\\nSTANDARDIZED')\n",
    "h_theta = bias + tv * sample['tv'] + radio * sample['radio'] + newspaper * sample['newspaper']\n",
    "\n",
    "print(f'pred: {h_theta}')\n",
    "print(f'real: {data['sales'].iloc[index]}')\n",
    "\n",
    "print('\\nCALCULATED ORIGINAL')\n",
    "print(f'pred: {calculate_orig(h_theta)}')\n",
    "print(f'real: {raw_data['sales'].iloc[index]}')"
   ]
  },
  {
   "cell_type": "code",
   "execution_count": 640,
   "metadata": {},
   "outputs": [
    {
     "name": "stdout",
     "output_type": "stream",
     "text": [
      "MEAN ADS\n",
      "pred: 14.051457996097847\n",
      "real: 14.0225\n",
      "\n",
      "NO ADS\n",
      "pred: -2.1332098904273753\n",
      "real: 2.8925700511511625\n"
     ]
    }
   ],
   "source": [
    "print('MEAN ADS')\n",
    "print(f'pred: {calculate_orig(bias)}')\n",
    "print(f'real: {raw_data['sales'].mean()}')\n",
    "\n",
    "print('\\nNO ADS')\n",
    "no_tv = scale(0, 'tv')\n",
    "no_radio = scale(0, 'radio')\n",
    "no_newspaper = scale(0, 'newspaper')\n",
    "\n",
    "no_ads = np.array([1, no_tv, no_radio, no_newspaper])\n",
    "no_ads_pred = predict(no_ads, weights)\n",
    "\n",
    "print(f'pred: {no_ads_pred}')\n",
    "print(f'real: {calculate_orig(no_ads_pred)}')"
   ]
  },
  {
   "cell_type": "markdown",
   "metadata": {},
   "source": [
    "### What are your interpretations regarding the formed linear model?\n",
    "\n",
    "With a small bias weight of ~0.005550, the model predicts that if no ads were invested, there will only be ~2.892570 in Sales, which is a farcry from the company's average Sales of 14.0225. Hence, the model suggests that there will only be some miniscule Sales if there were no advertisements. \n",
    "\n",
    "TV had a weight of ~0.726700 which is the highest, followed by radio with ~0.566285, and newspaper with a measly ~0.004853. This indicates that: \n",
    "* for every unit increase in TV (holding others constant), there is a corresponding increase of ~0.726700 units in the model's prediction of Sales.  \n",
    "* for every unit increase in Radio (holding others constant), there is a corresponding increase of ~0.566285 units in the model's prediction of Sales.\n",
    "* and, for every unit increase in Newspaper (holding others constant), there is a corresponding increase of ~0.004853 units in the model's prediction of Sales.\n",
    "\n",
    "The model suggests that TV advertising is the most effective at increasing Sales output, followed by Radio advertising. On the other hand, Newspaper advertising has a negligible effect on Sales output."
   ]
  },
  {
   "cell_type": "markdown",
   "metadata": {},
   "source": [
    "### 2. Provide a scatter plot of the predicted and real values of both the train and test set. Provide an r2 score (also available in sklearn)."
   ]
  },
  {
   "cell_type": "code",
   "execution_count": 652,
   "metadata": {},
   "outputs": [
    {
     "data": {
      "image/png": "[encoded data removed]",
      "text/plain": [
       "<Figure size 640x480 with 1 Axes>"
      ]
     },
     "metadata": {},
     "output_type": "display_data"
    }
   ],
   "source": [
    "plt.scatter(y_train, y_train_pred)\n",
    "plt.xlabel('Real Sales')\n",
    "plt.ylabel('Predicted Sales')\n",
    "plt.title('Scaled Train Set: Real vs Predicted Sales')\n",
    "\n",
    "m, b = np.polyfit(y_train, y_train_pred, 1)\n",
    "plt.plot(y_train, m*y_train + b, color='red')\n",
    "\n",
    "plt.show()"
   ]
  },
  {
   "cell_type": "code",
   "execution_count": 653,
   "metadata": {},
   "outputs": [
    {
     "data": {
      "image/png": "[encoded data removed]",
      "text/plain": [
       "<Figure size 640x480 with 1 Axes>"
      ]
     },
     "metadata": {},
     "output_type": "display_data"
    }
   ],
   "source": [
    "plt.scatter(y_test, y_test_pred)\n",
    "plt.xlabel('Real Sales')\n",
    "plt.ylabel('Predicted Sales')\n",
    "plt.title('Scaled Test Set: Real vs Predicted Sales')\n",
    "\n",
    "m, b = np.polyfit(y_test, y_test_pred, 1)\n",
    "plt.plot(y_test, m*y_test + b, color='red')\n",
    "\n",
    "plt.show()"
   ]
  },
  {
   "cell_type": "code",
   "execution_count": 649,
   "metadata": {},
   "outputs": [
    {
     "name": "stdout",
     "output_type": "stream",
     "text": [
      "r2_train: 0.9072183330817297\n",
      "r2_test : 0.8576396745320891\n"
     ]
    }
   ],
   "source": [
    "print(f'r2_train: {r2_train}')\n",
    "print(f'r2_test : {r2_test}')"
   ]
  },
  {
   "cell_type": "markdown",
   "metadata": {},
   "source": [
    "### Is there a trend? \n",
    "\n",
    "There exists a linear positive trend on both plots, which is further illustrated by the diagonal regression lines presented.\n",
    "\n",
    "The r^2 in the training set indicates that ~90.72% of the variability in response (Sales) is explained by the model using the predictors (TV, Radio, and Newspaper). The model has a strong fit to the training data.\n",
    "\n",
    "The r^2 in the testing set indicates that ~85.76% of the variability in response (Sales) is explained by the model using the predictors (TV, Radio, and Newspaper). This is only a drop of ~4.96, indicating that the model has robust performance on unseen data and thus has good generalization. Additionally, the existence of a small drop implies there the model is not significantly overfitting.\n",
    "\n",
    "Both ^2 values are well above 0.75, which is considered as 'very strong positive relationship' between the predicted and real values. This indicates that the model reliably captures the trends in the relationships between the predictors and the response."
   ]
  }
 ],
 "metadata": {
  "kernelspec": {
   "display_name": "base",
   "language": "python",
   "name": "python3"
  },
  "language_info": {
   "codemirror_mode": {
    "name": "ipython",
    "version": 3
   },
   "file_extension": ".py",
   "mimetype": "text/x-python",
   "name": "python",
   "nbconvert_exporter": "python",
   "pygments_lexer": "ipython3",
   "version": "3.12.5"
  }
 },
 "nbformat": 4,
 "nbformat_minor": 2
}
